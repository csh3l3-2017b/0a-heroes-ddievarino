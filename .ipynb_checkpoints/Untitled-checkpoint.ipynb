{
 "cells": [
  {
   "cell_type": "markdown",
   "metadata": {},
   "source": [
    "#  Tugas 0A - TelU Legends Heroes"
   ]
  },
  {
   "cell_type": "raw",
   "metadata": {},
   "source": [
    "untuk mengimoprt library pandas"
   ]
  },
  {
   "cell_type": "code",
   "execution_count": 1,
   "metadata": {
    "collapsed": true
   },
   "outputs": [],
   "source": [
    "import pandas as pd"
   ]
  },
  {
   "cell_type": "raw",
   "metadata": {},
   "source": [
    "memasukan data yang akan dibaca"
   ]
  },
  {
   "cell_type": "code",
   "execution_count": 2,
   "metadata": {
    "collapsed": true
   },
   "outputs": [],
   "source": [
    "listdata = pd.read_csv('test.csv')"
   ]
  },
  {
   "cell_type": "raw",
   "metadata": {},
   "source": [
    "membuat kolom untuk mendeklarasikan list data dalam program"
   ]
  },
  {
   "cell_type": "code",
   "execution_count": 3,
   "metadata": {
    "collapsed": true
   },
   "outputs": [],
   "source": [
    "role = []"
   ]
  },
  {
   "cell_type": "raw",
   "metadata": {},
   "source": [
    "menentukan role setiap hero"
   ]
  },
  {
   "cell_type": "code",
   "execution_count": 4,
   "metadata": {},
   "outputs": [],
   "source": [
    "for i in range(len(listdata)): \n",
    "    if (listdata[\"movementSpeed\"][i] >= 270): \n",
    "        role.append(\"MARKSMAN\")\n",
    "    elif (listdata[\"hp\"][i] >= 2580): \n",
    "        role.append(\"FIGHTER\")\n",
    "    elif (listdata[\"mana\"][i] >= 500): \n",
    "        role.append(\"MAGE\")\n",
    "    elif (listdata[\"armor\"][i] >= 25):\n",
    "        role.append(\"TANK\")\n",
    "    elif (listdata[\"physicalAttack\"][i] >= 121):\n",
    "        role.append(\"ASSASSIN\")\n",
    "    else: \n",
    "        role.append(\"SUPPORT\")"
   ]
  },
  {
   "cell_type": "raw",
   "metadata": {},
   "source": [
    "membuat dataframe"
   ]
  },
  {
   "cell_type": "code",
   "execution_count": 5,
   "metadata": {
    "collapsed": true
   },
   "outputs": [],
   "source": [
    "hasil = {'name' : listdata[\"name\"], 'role' : role}\n",
    "export = pd.DataFrame(hasil)"
   ]
  },
  {
   "cell_type": "raw",
   "metadata": {},
   "source": [
    "mengeksport hasil ke file csv"
   ]
  },
  {
   "cell_type": "code",
   "execution_count": 6,
   "metadata": {
    "collapsed": true
   },
   "outputs": [],
   "source": [
    "export.to_csv('prediction.csv',index=False)"
   ]
  },
  {
   "cell_type": "code",
   "execution_count": null,
   "metadata": {
    "collapsed": true
   },
   "outputs": [],
   "source": []
  }
 ],
 "metadata": {
  "kernelspec": {
   "display_name": "Python 3",
   "language": "python",
   "name": "python3"
  },
  "language_info": {
   "codemirror_mode": {
    "name": "ipython",
    "version": 3
   },
   "file_extension": ".py",
   "mimetype": "text/x-python",
   "name": "python",
   "nbconvert_exporter": "python",
   "pygments_lexer": "ipython3",
   "version": "3.6.3"
  }
 },
 "nbformat": 4,
 "nbformat_minor": 2
}
